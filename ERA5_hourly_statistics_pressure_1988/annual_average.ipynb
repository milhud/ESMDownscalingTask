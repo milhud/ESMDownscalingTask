{
 "cells": [
  {
   "cell_type": "markdown",
   "id": "8842ae99",
   "metadata": {},
   "source": [
    "## Annual Averages\n",
    "\n",
    "Let's now begin with plotting the annual averages per unit of latitude and longitude. First, we must load the data."
   ]
  },
  {
   "cell_type": "code",
   "execution_count": 1,
   "id": "7d46ed5c",
   "metadata": {},
   "outputs": [],
   "source": [
    "import xarray as xarr\n",
    "\n",
    "# open datafile\n",
    "dataFile = \"./data/clipped_hourly_pressure_1988.nc\"\n",
    "data = xarr.open_dataset(dataFile)\n",
    "\n",
    "# kelvin to celsius\n",
    "data[\"t_celsius\"] = data['t'] - 273.15"
   ]
  },
  {
   "cell_type": "markdown",
   "id": "bd13d959",
   "metadata": {},
   "source": [
    "Now proceeding to calculate the means and the spatial averages:"
   ]
  },
  {
   "cell_type": "code",
   "execution_count": 2,
   "id": "4d2d8c92",
   "metadata": {},
   "outputs": [],
   "source": [
    "# calculate averages across continental US\n",
    "mean_temp = data['t_celsius'].mean(dim='valid_time')\n",
    "mean_clwc = data['clwc'].mean(dim='valid_time')\n",
    "\n",
    "# calculate nationwide average across the year\n",
    "temp_timeseries = data['t_celsius'].mean(dim=['latitude', 'longitude'])\n",
    "clwc_timeseries = data['clwc'].mean(dim=['latitude', 'longitude'])"
   ]
  },
  {
   "cell_type": "markdown",
   "id": "dd514b29",
   "metadata": {},
   "source": [
    "For the spatial averages, we have to use the climate data operators class. Also, for the average cloud water content, a better metric would be the cumulative sum of all waater content across the US. Let's try that now:"
   ]
  },
  {
   "cell_type": "code",
   "execution_count": null,
   "id": "dc66565a",
   "metadata": {},
   "outputs": [],
   "source": [
    "from cdo import Cdo\n",
    "cdo = Cdo() # load climaate data operators package\n",
    "\n",
    "# define output file\n",
    "outputFile = \"./data/spatial_avgs.nc\"\n",
    "\n",
    "spatial_avg_file = cdo.fldmean(input=dataFile, output=outputFile)\n",
    "spatial_avgs = xarr.open_dataset(outputFile)\n",
    "\n",
    "# calculate nationwide average across the year\n",
    "temp_timeseries = spatial_avgs[\"t\"] - 273.15 # convert to celsius\n",
    "clwc_timeseries = spatial_avgs[\"clwc\"].cumsum(dim=[\"lat\", \"lon\"])"
   ]
  },
  {
   "cell_type": "markdown",
   "id": "f5f71c20",
   "metadata": {},
   "source": [
    "We can then plot the annual average temperature across the continental United States."
   ]
  },
  {
   "cell_type": "code",
   "execution_count": null,
   "id": "9136c4ad",
   "metadata": {},
   "outputs": [],
   "source": [
    "import matplotlib.pyplot as plot\n",
    "import cartopy.crs as ccrs\n",
    "\n",
    "# declare figure\n",
    "theFigure = plot.subplots(figsize=(12, 8), subplot_kw={'projection': ccrs.PlateCarree()})\n",
    "\n",
    "# make map, adjust colorbar\n",
    "temp_plot = mean_temp.plot(transform=ccrs.PlateCarree(), cmap=\"RdYlBu_r\", add_colorbar=True)\n",
    "temp_plot.colorbar.set_label(\"Temperature (Celsius)\")\n",
    "\n",
    "# plot, show\n",
    "plot.title(\"Annual Average Temperature at 1hPa across the Continental United States\")\n",
    "plot.savefig(\"./plots/Annual_Average_Temperature_Hourly_1hPa_CONUS_1988.png\")\n",
    "plot.show()"
   ]
  },
  {
   "cell_type": "markdown",
   "id": "6c80c848",
   "metadata": {},
   "source": [
    "Now, let's do the average cloud water content."
   ]
  },
  {
   "cell_type": "code",
   "execution_count": null,
   "id": "bd771198",
   "metadata": {},
   "outputs": [],
   "source": [
    "# declare figure\n",
    "theFigure = plot.subplots(figsize=(12, 8), subplot_kw={'projection': ccrs.PlateCarree()})\n",
    "\n",
    "# make map, adjust colorbar\n",
    "clwc_plot = mean_clwc.plot(transform=ccrs.PlateCarree(), cmap=\"RdYlBu_r\", vmin=0, vmax=0.02, add_colorbar=True)\n",
    "clwc_plot.colorbar.set_label(\"Cloud Water Content (kg/kg)\")\n",
    "\n",
    "# plot, show\n",
    "plot.title(\"Annual Average Cloud Water Content at 1hPa across the Continental United States\")\n",
    "plot.savefig(\"./plots/Annual_Average_CLWC_Hourly_1hPa_CONUS_1988.png\")\n",
    "plot.show()"
   ]
  },
  {
   "cell_type": "markdown",
   "id": "450e5c6d",
   "metadata": {},
   "source": [
    "(The altitude at which the pressure is 1hPa is so extreme that there is essentially zero cloud water content; hence, the near-uniform graph.)\n",
    "\n",
    "Let's now plot the annual average across the entire continental United States with a graph that shows how temperature changed with time."
   ]
  },
  {
   "cell_type": "code",
   "execution_count": null,
   "id": "ecfe4b5b",
   "metadata": {},
   "outputs": [],
   "source": [
    "# create figure\n",
    "theFigure = plot.subplots(figsize=(12,8))\n",
    "\n",
    "# need to pass in the times, and then the data\n",
    "plot.plot(temp_timeseries.valid_time, temp_timeseries, color=\"red\")\n",
    "\n",
    "# labels\n",
    "plot.ylabel(\"Temperature (Celsius)\")\n",
    "plot.xlabel(\"Date\")\n",
    "plot.title(\"Average Temperature at 1hPA Across 1988\")\n",
    "plot.savefig(\"./plots/Annual_Average_Temperature_TimeSeries_Hourly_1hPa_CONUS_1988.png\")\n",
    "plot.show()"
   ]
  },
  {
   "cell_type": "markdown",
   "id": "ad669dd4",
   "metadata": {},
   "source": [
    "We can then finish with the same for cloud water content."
   ]
  },
  {
   "cell_type": "code",
   "execution_count": null,
   "id": "6c73f419",
   "metadata": {},
   "outputs": [],
   "source": [
    "theFigure = plot.subplots(figsize=(12,8))\n",
    "plot.plot(clwc_timeseries.valid_time, clwc_timeseries, color=\"red\")\n",
    "plot.ylabel(\"Cloud Water Content (kg/kg)\")\n",
    "plot.xlabel(\"Date\")\n",
    "plot.title(\"Average Cloud Water Content at 1hPA Across 1988\")\n",
    "plot.ylim(bottom=0)\n",
    "plot.savefig(\"./plots/Annual_Average_CLWC_TimeSeries_Hourly_1hPa_CONUS_1988.png\")\n",
    "plot.show()"
   ]
  },
  {
   "cell_type": "markdown",
   "id": "6e8e662b",
   "metadata": {},
   "source": [
    "(Again, at that pressure, it's miniscule.)"
   ]
  }
 ],
 "metadata": {
  "kernelspec": {
   "display_name": "Python 3 (ipykernel)",
   "language": "python",
   "name": "python3"
  },
  "language_info": {
   "codemirror_mode": {
    "name": "ipython",
    "version": 3
   },
   "file_extension": ".py",
   "mimetype": "text/x-python",
   "name": "python",
   "nbconvert_exporter": "python",
   "pygments_lexer": "ipython3",
   "version": "3.12.3"
  }
 },
 "nbformat": 4,
 "nbformat_minor": 5
}
