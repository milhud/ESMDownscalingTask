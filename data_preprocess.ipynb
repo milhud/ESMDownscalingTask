{
 "cells": [
  {
   "cell_type": "markdown",
   "id": "21f5a613",
   "metadata": {},
   "source": [
    "# Preprocess Data\n",
    "\n",
    "Before running any analysis on the data, let's process it and fit it to the lower contiguous United States using a [shapefile from the US Census](https://www.census.gov/geographies/mapping-files/time-series/geo/cartographic-boundary.html) (2024 > 1 : 500,000 > cb_2024_us_region_500k > cb_2024_us_region_500k.shp). We can then process this as follows:"
   ]
  },
  {
   "cell_type": "code",
   "execution_count": null,
   "id": "4ea3847a",
   "metadata": {},
   "outputs": [],
   "source": [
    "# import necessary packages\n",
    "import geopandas as geop\n",
    "import xarray as xarr\n",
    "import rioxarray as riox\n",
    "\n",
    "dataset = \"rough_CONUS_precipitation_temperature_1988.nc\"\n",
    "shapefile = \"cb_2024_us_region_500k.shp\"\n",
    "\n",
    "roughData = xarr.open_dataset(dataset)\n",
    "\n",
    "\n"
   ]
  }
 ],
 "metadata": {
  "kernelspec": {
   "display_name": "Python 3",
   "language": "python",
   "name": "python3"
  },
  "language_info": {
   "codemirror_mode": {
    "name": "ipython",
    "version": 3
   },
   "file_extension": ".py",
   "mimetype": "text/x-python",
   "name": "python",
   "nbconvert_exporter": "python",
   "pygments_lexer": "ipython3",
   "version": "3.11.9"
  }
 },
 "nbformat": 4,
 "nbformat_minor": 5
}
