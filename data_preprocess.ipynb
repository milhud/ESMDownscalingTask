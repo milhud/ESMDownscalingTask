{
 "cells": [
  {
   "cell_type": "markdown",
   "id": "21f5a613",
   "metadata": {},
   "source": [
    "# Preprocess Data\n",
    "\n",
    "Before running any analysis on the data, let's process it and fit it to the lower contiguous United States using a [shapefile from the US Census](https://www.census.gov/geographies/mapping-files/time-series/geo/cartographic-boundary.html) (2024 > 1 : 500,000 > cb_2024_us_region_500k > cb_2024_us_region_500k.shp). We can then process this as follows:"
   ]
  },
  {
   "cell_type": "code",
   "execution_count": 1,
   "id": "4ea3847a",
   "metadata": {},
   "outputs": [],
   "source": [
    "# import necessary packages\n",
    "import geopandas as geop\n",
    "import xarray as xarr\n",
    "import rioxarray as riox\n",
    "\n",
    "# define file names\n",
    "dataset = \"rough_CONUS_precipitation_temperature_1988.nc\"\n",
    "shapefile = \"./data/cb_2024_us_state_500k/cb_2024_us_state_500k.shp\"\n",
    "\n",
    "# load datasets\n",
    "roughData = xarr.open_dataset(dataset)\n",
    "conus_shapefile = geop.read_file(shapefile)\n",
    "\n",
    "# filter to continental US; filter by two STUSPS, two-letter abbreviation for states and territories\n",
    "conusSeparate = conus_shapefile[~conus_shapefile['STUSPS'].isin(['AK', 'HI', 'GU', 'MP', 'PR', 'VI', 'AS'])]\n",
    "\n",
    "# dissolve to make continuous boundary\n",
    "conus_boundary = conusSeparate.dissolve()\n",
    "\n",
    "# now, write the same coordinate reference system \n",
    "roughData = roughData.rio.set_spatial_dims(x_dim=\"longitude\", y_dim='latitude')\n",
    "cleanData = roughData.rio.write_crs(conus_boundary.crs)\n"
   ]
  },
  {
   "cell_type": "markdown",
   "id": "e52ee6b3",
   "metadata": {},
   "source": [
    "#### Clipping (GeoPandas to GeoJSON), Saving\n",
    "\n",
    "Now we need to ensure we can clip it to fit the border of the continental United States,  including those partially on the border (drop=False). This will check if each grid cell is in or overlapping with the US polygon boundary."
   ]
  },
  {
   "cell_type": "code",
   "execution_count": 2,
   "id": "5915764f",
   "metadata": {},
   "outputs": [],
   "source": [
    "from shapely.geometry import mapping\n",
    "\n",
    "cleanData_clipped = cleanData.rio.clip(conus_boundary.geometry.apply(mapping), conus_boundary.crs, drop=False)\n",
    "cleanData_clipped.to_netcdf(\"CONUS_clipped_precipitation_temperature_1988.nc\")"
   ]
  },
  {
   "cell_type": "markdown",
   "id": "6dc8fb38",
   "metadata": {},
   "source": [
    "Let's now make a heatmap for the temperature on the first of August to ensure this worked preprocess worked."
   ]
  },
  {
   "cell_type": "code",
   "execution_count": null,
   "id": "c21da5c8",
   "metadata": {},
   "outputs": [
    {
     "name": "stdout",
     "output_type": "stream",
     "text": [
      "<xarray.Dataset> Size: 3MB\n",
      "Dimensions:         (valid_time: 31, pressure_level: 1, latitude: 105,\n",
      "                     longitude: 245)\n",
      "Coordinates:\n",
      "    number          int64 8B 0\n",
      "  * pressure_level  (pressure_level) float64 8B 1.0\n",
      "  * latitude        (latitude) float64 840B 50.0 49.75 49.5 ... 24.5 24.25 24.0\n",
      "  * longitude       (longitude) float64 2kB -126.0 -125.8 ... -65.25 -65.0\n",
      "  * valid_time      (valid_time) datetime64[ns] 248B 1988-08-01 ... 1988-08-31\n",
      "    spatial_ref     int64 8B 0\n",
      "Data variables:\n",
      "    t               (valid_time, pressure_level, latitude, longitude) float32 3MB ...\n",
      "Attributes:\n",
      "    GRIB_centre:             ecmf\n",
      "    GRIB_centreDescription:  European Centre for Medium-Range Weather Forecasts\n",
      "    GRIB_subCentre:          0\n",
      "    Conventions:             CF-1.7\n",
      "    institution:             European Centre for Medium-Range Weather Forecasts\n",
      "    history:                 2025-08-05T23:30 GRIB to CDM+CF via cfgrib-0.9.1...\n"
     ]
    }
   ],
   "source": [
    "import matplotlib.pyplot as plt\n",
    "import cartopy.crs as ccrs\n",
    "import cartopy.feature as cfeature\n",
    "\n",
    "# get August data, and then the first temperature data point of the month\n",
    "august_data = cleanData_clipped.where(cleanData_clipped.valid_time.dt.month == 8, drop=True)\n",
    "august_temp = august_data['t'][0] # in Kelvin\n",
    "\n",
    "\n"
   ]
  }
 ],
 "metadata": {
  "kernelspec": {
   "display_name": "Python 3",
   "language": "python",
   "name": "python3"
  },
  "language_info": {
   "codemirror_mode": {
    "name": "ipython",
    "version": 3
   },
   "file_extension": ".py",
   "mimetype": "text/x-python",
   "name": "python",
   "nbconvert_exporter": "python",
   "pygments_lexer": "ipython3",
   "version": "3.11.9"
  }
 },
 "nbformat": 4,
 "nbformat_minor": 5
}
