{
 "cells": [
  {
   "cell_type": "markdown",
   "id": "21f5a613",
   "metadata": {},
   "source": [
    "# Preprocess Data\n",
    "\n",
    "Before running any analysis on the data, let's process it and fit it to the lower contiguous United States using a [shapefile from the US Census](https://www.census.gov/geographies/mapping-files/time-series/geo/cartographic-boundary.html) (2024 > 1 : 500,000 > cb_2024_us_region_500k > cb_2024_us_region_500k.shp). We can then process this as follows:"
   ]
  },
  {
   "cell_type": "code",
   "execution_count": null,
   "id": "4ea3847a",
   "metadata": {},
   "outputs": [],
   "source": [
    "# import necessary packages\n",
    "import geopandas as geop\n",
    "import xarray as xarr\n",
    "import rioxarray as riox\n",
    "\n",
    "# define file names\n",
    "dataset = \"rough_CONUS_precipitation_temperature_1988.nc\"\n",
    "shapefile = \"./data/cb_2024_us_state_500k/cb_2024_us_state_500k.shp\"\n",
    "\n",
    "# load datasets\n",
    "roughData = xarr.open_dataset(dataset)\n",
    "conus_shapefile = geop.read_file(shapefile)\n",
    "\n",
    "# filter to continental US; filter by two STUSPS, two-letter abbreviation for states and territories\n",
    "conusSeparate = conus_shapefile[~conus_shapefile['STUSPS'].isin(['AK', 'HI', 'GU', 'MP', 'PR', 'VI', 'AS'])]\n",
    "\n",
    "# dissolve to make continuous boundary\n",
    "conus_boundary = conusSeparate.dissolve()\n",
    "\n",
    "# now, write the same coordinate reference system \n",
    "roughData = roughData.rio.set_spatial_dims(x_dim=\"longitude\", y_dim='latitude')\n",
    "cleanData = roughData.rio.write_crs(conus_boundary.crs)\n"
   ]
  },
  {
   "cell_type": "markdown",
   "id": "e52ee6b3",
   "metadata": {},
   "source": [
    "## GeoPandas to GeoJSON\n",
    "\n",
    "Now we need to ensure we can clip it to fit the border of the continental United States (including those partially on the border)."
   ]
  },
  {
   "cell_type": "code",
   "execution_count": null,
   "id": "5915764f",
   "metadata": {},
   "outputs": [],
   "source": [
    "from shapely.geometry import mapping\n",
    "\n",
    "cleanData_clipped = cleanData.rio.clip(conus_boundary.geometry.apply(mapping))"
   ]
  }
 ],
 "metadata": {
  "kernelspec": {
   "display_name": "Python 3",
   "language": "python",
   "name": "python3"
  },
  "language_info": {
   "codemirror_mode": {
    "name": "ipython",
    "version": 3
   },
   "file_extension": ".py",
   "mimetype": "text/x-python",
   "name": "python",
   "nbconvert_exporter": "python",
   "pygments_lexer": "ipython3",
   "version": "3.11.9"
  }
 },
 "nbformat": 4,
 "nbformat_minor": 5
}
