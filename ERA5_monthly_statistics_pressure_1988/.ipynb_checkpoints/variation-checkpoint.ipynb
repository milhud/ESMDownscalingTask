{
 "cells": [
  {
   "cell_type": "markdown",
   "id": "c686b263",
   "metadata": {},
   "source": [
    "## Variation Statistics\n",
    "\n",
    "Now, let's represent how these variables correlate with one another among the monthly dataset at 1 hPa. For this, we'll use a binned analysis. First, let's load our data."
   ]
  },
  {
   "cell_type": "code",
   "execution_count": 1,
   "id": "6028017e",
   "metadata": {},
   "outputs": [],
   "source": [
    "import xarray as xarr\n",
    "\n",
    "filename = \"./data/clipped_monthly_pressure_1988.nc\"\n",
    "data = xarr.open_dataset(\"./data/spatial_averages.nc\")"
   ]
  },
  {
   "cell_type": "markdown",
   "id": "692c76d0",
   "metadata": {},
   "source": [
    "Now, we can calculate the mean across each time point across all latitudes and longitudes."
   ]
  },
  {
   "cell_type": "code",
   "execution_count": 2,
   "id": "470869f0",
   "metadata": {},
   "outputs": [],
   "source": [
    "# calculate nationwide average across the year\n",
    "temp_timeseries = data['t'].squeeze()\n",
    "clwc_timeseries = data['clwc'].squeeze()"
   ]
  },
  {
   "cell_type": "markdown",
   "id": "f7920924",
   "metadata": {},
   "source": [
    "Let's then bin them in different, proportional quartiles."
   ]
  },
  {
   "cell_type": "code",
   "execution_count": 4,
   "id": "7ba6d2ca",
   "metadata": {},
   "outputs": [],
   "source": [
    "# Create quartile bins directly with xarray\n",
    "temp_ts = data[\"t\"].mean(dim=['lat', 'lon']).dropna(dim='valid_time')\n",
    "clwc_ts = data[\"clwc\"].mean(dim=['lat', 'lon']).dropna(dim='valid_time')\n",
    "\n",
    "# Group by quartiles using xarray\n",
    "quartile_groups = clwc_ts.groupby_bins(temp_ts, 4, labels=['Colder', 'Cooler', 'Warmer', 'Hotter'])\n",
    "\n",
    "# Extract data for plotting\n",
    "quartile_data = [group.values for label, group in quartile_groups]"
   ]
  },
  {
   "cell_type": "markdown",
   "id": "11cb61a4",
   "metadata": {},
   "source": [
    "Finally, we can save and show the figure."
   ]
  },
  {
   "cell_type": "code",
   "execution_count": null,
   "id": "b8035794",
   "metadata": {},
   "outputs": [],
   "source": [
    "import matplotlib.pyplot as plot\n",
    "\n",
    "plot.figure(figsize=(10, 6))\n",
    "plot.violinplot(quartile_data, positions=[1, 2, 3, 4])\n",
    "plot.xticks([1, 2, 3, 4], ['Colder', 'Cooler', 'Warmer', 'Hotter'])\n",
    "plot.ylabel('CLWC (kg/kg)')\n",
    "plot.xlabel('Temperature Quartiles')\n",
    "plot.title('CLWC Distribution Shape by Temperature')\n",
    "plot.savefig(\"./plots/Temperature_Precipitation_Comparison.png\")\n",
    "plot.show()"
   ]
  }
 ],
 "metadata": {
  "kernelspec": {
   "display_name": "Python 3 (ipykernel)",
   "language": "python",
   "name": "python3"
  },
  "language_info": {
   "codemirror_mode": {
    "name": "ipython",
    "version": 3
   },
   "file_extension": ".py",
   "mimetype": "text/x-python",
   "name": "python",
   "nbconvert_exporter": "python",
   "pygments_lexer": "ipython3",
   "version": "3.12.3"
  }
 },
 "nbformat": 4,
 "nbformat_minor": 5
}
