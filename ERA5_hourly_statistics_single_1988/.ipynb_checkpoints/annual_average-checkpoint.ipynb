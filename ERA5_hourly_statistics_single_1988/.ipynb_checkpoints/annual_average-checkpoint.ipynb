{
 "cells": [
  {
   "cell_type": "markdown",
   "id": "8842ae99",
   "metadata": {},
   "source": [
    "## Annual Averages\n",
    "\n",
    "Let's now plot the annual averages. First, let's load our data."
   ]
  },
  {
   "cell_type": "code",
   "execution_count": 1,
   "id": "7d46ed5c",
   "metadata": {},
   "outputs": [],
   "source": [
    "import xarray as xarr\n",
    "\n",
    "# open datafile\n",
    "dataFile = \"./data/clipped_hourly_single_1988.nc\"\n",
    "data = xarr.open_dataset(dataFile)\n",
    "\n",
    "# kelvin -> celsius\n",
    "data[\"t_celsius\"] = data['t2m'] - 273.15"
   ]
  },
  {
   "cell_type": "markdown",
   "id": "3e746f92",
   "metadata": {},
   "source": [
    "Now, we can calculate the mean in the form of a time series and as a heatmap across the United States."
   ]
  },
  {
   "cell_type": "code",
   "execution_count": 2,
   "id": "32f24cbd",
   "metadata": {},
   "outputs": [],
   "source": [
    "# calculate averages across continental US\n",
    "mean_temp = data['t_celsius'].mean(dim='valid_time')\n",
    "mean_precipitation = data['tp'].mean(dim='valid_time')"
   ]
  },
  {
   "cell_type": "markdown",
   "id": "8d5ced98",
   "metadata": {},
   "source": [
    "We can now calculate the weighted averages for the time series. Also, a better metric for precipitation might be a cumulative sum of all precipitation at each time interval. Let's find that, and show that as a time series throughout the year."
   ]
  },
  {
   "cell_type": "code",
   "execution_count": 3,
   "id": "8bc59f54",
   "metadata": {},
   "outputs": [
    {
     "ename": "KeyboardInterrupt",
     "evalue": "",
     "output_type": "error",
     "traceback": [
      "\u001b[0;31m---------------------------------------------------------------------------\u001b[0m",
      "\u001b[0;31mKeyboardInterrupt\u001b[0m                         Traceback (most recent call last)",
      "Cell \u001b[0;32mIn[3], line 7\u001b[0m\n\u001b[1;32m      4\u001b[0m \u001b[38;5;66;03m# define output file\u001b[39;00m\n\u001b[1;32m      5\u001b[0m outputFile \u001b[38;5;241m=\u001b[39m \u001b[38;5;124m\"\u001b[39m\u001b[38;5;124m./data/spatial_avgs.nc\u001b[39m\u001b[38;5;124m\"\u001b[39m\n\u001b[0;32m----> 7\u001b[0m spatial_avg_file \u001b[38;5;241m=\u001b[39m \u001b[43mcdo\u001b[49m\u001b[38;5;241;43m.\u001b[39;49m\u001b[43mfldmean\u001b[49m\u001b[43m(\u001b[49m\u001b[38;5;28;43minput\u001b[39;49m\u001b[38;5;241;43m=\u001b[39;49m\u001b[43mdataFile\u001b[49m\u001b[43m,\u001b[49m\u001b[43m \u001b[49m\u001b[43moutput\u001b[49m\u001b[38;5;241;43m=\u001b[39;49m\u001b[43moutputFile\u001b[49m\u001b[43m)\u001b[49m\n\u001b[1;32m      8\u001b[0m spatial_avgs \u001b[38;5;241m=\u001b[39m xarr\u001b[38;5;241m.\u001b[39mopen_dataset(outputFile)\n\u001b[1;32m     10\u001b[0m \u001b[38;5;66;03m# calculate nationwide average, cumulative sum across the year\u001b[39;00m\n",
      "File \u001b[0;32m/usr/lib/python3/dist-packages/cdo/cdo.py:515\u001b[0m, in \u001b[0;36mCdo.__call__\u001b[0;34m(self, *args, **kwargs)\u001b[0m\n\u001b[1;32m    511\u001b[0m         outputs\u001b[38;5;241m.\u001b[39mappend(\u001b[38;5;28mself\u001b[39m\u001b[38;5;241m.\u001b[39mtempStore\u001b[38;5;241m.\u001b[39mnewFile())\n\u001b[1;32m    513\u001b[0m cmd\u001b[38;5;241m.\u001b[39mappend(\u001b[38;5;124m'\u001b[39m\u001b[38;5;124m \u001b[39m\u001b[38;5;124m'\u001b[39m\u001b[38;5;241m.\u001b[39mjoin(outputs))\n\u001b[0;32m--> 515\u001b[0m retvals \u001b[38;5;241m=\u001b[39m \u001b[38;5;28;43mself\u001b[39;49m\u001b[38;5;241;43m.\u001b[39;49m\u001b[43m__call\u001b[49m\u001b[43m(\u001b[49m\u001b[43mcmd\u001b[49m\u001b[43m,\u001b[49m\u001b[43m \u001b[49m\u001b[43menvOfCall\u001b[49m\u001b[43m)\u001b[49m\n\u001b[1;32m    516\u001b[0m \u001b[38;5;28;01mif\u001b[39;00m \u001b[38;5;28mself\u001b[39m\u001b[38;5;241m.\u001b[39m__hasError(method_name, cmd, retvals):\n\u001b[1;32m    517\u001b[0m     \u001b[38;5;28;01mif\u001b[39;00m \u001b[38;5;28mself\u001b[39m\u001b[38;5;241m.\u001b[39mreturnNoneOnError:\n",
      "File \u001b[0;32m/usr/lib/python3/dist-packages/cdo/cdo.py:334\u001b[0m, in \u001b[0;36mCdo.__call\u001b[0;34m(self, cmd, envOfCall)\u001b[0m\n\u001b[1;32m    326\u001b[0m env\u001b[38;5;241m.\u001b[39mupdate(envOfCall)\n\u001b[1;32m    328\u001b[0m proc \u001b[38;5;241m=\u001b[39m subprocess\u001b[38;5;241m.\u001b[39mPopen(\u001b[38;5;124m'\u001b[39m\u001b[38;5;124m \u001b[39m\u001b[38;5;124m'\u001b[39m\u001b[38;5;241m.\u001b[39mjoin(cmd),\n\u001b[1;32m    329\u001b[0m                         shell\u001b[38;5;241m=\u001b[39m\u001b[38;5;28;01mTrue\u001b[39;00m,\n\u001b[1;32m    330\u001b[0m                         stderr\u001b[38;5;241m=\u001b[39msubprocess\u001b[38;5;241m.\u001b[39mPIPE,\n\u001b[1;32m    331\u001b[0m                         stdout\u001b[38;5;241m=\u001b[39msubprocess\u001b[38;5;241m.\u001b[39mPIPE,\n\u001b[1;32m    332\u001b[0m                         env\u001b[38;5;241m=\u001b[39menv)\n\u001b[0;32m--> 334\u001b[0m retvals \u001b[38;5;241m=\u001b[39m \u001b[43mproc\u001b[49m\u001b[38;5;241;43m.\u001b[39;49m\u001b[43mcommunicate\u001b[49m\u001b[43m(\u001b[49m\u001b[43m)\u001b[49m\n\u001b[1;32m    335\u001b[0m stdout \u001b[38;5;241m=\u001b[39m retvals[\u001b[38;5;241m0\u001b[39m]\u001b[38;5;241m.\u001b[39mdecode(\u001b[38;5;124m\"\u001b[39m\u001b[38;5;124mutf-8\u001b[39m\u001b[38;5;124m\"\u001b[39m)\n\u001b[1;32m    336\u001b[0m stderr \u001b[38;5;241m=\u001b[39m retvals[\u001b[38;5;241m1\u001b[39m]\u001b[38;5;241m.\u001b[39mdecode(\u001b[38;5;124m\"\u001b[39m\u001b[38;5;124mutf-8\u001b[39m\u001b[38;5;124m\"\u001b[39m)\n",
      "File \u001b[0;32m/usr/lib/python3.12/subprocess.py:1209\u001b[0m, in \u001b[0;36mPopen.communicate\u001b[0;34m(self, input, timeout)\u001b[0m\n\u001b[1;32m   1206\u001b[0m     endtime \u001b[38;5;241m=\u001b[39m \u001b[38;5;28;01mNone\u001b[39;00m\n\u001b[1;32m   1208\u001b[0m \u001b[38;5;28;01mtry\u001b[39;00m:\n\u001b[0;32m-> 1209\u001b[0m     stdout, stderr \u001b[38;5;241m=\u001b[39m \u001b[38;5;28;43mself\u001b[39;49m\u001b[38;5;241;43m.\u001b[39;49m\u001b[43m_communicate\u001b[49m\u001b[43m(\u001b[49m\u001b[38;5;28;43minput\u001b[39;49m\u001b[43m,\u001b[49m\u001b[43m \u001b[49m\u001b[43mendtime\u001b[49m\u001b[43m,\u001b[49m\u001b[43m \u001b[49m\u001b[43mtimeout\u001b[49m\u001b[43m)\u001b[49m\n\u001b[1;32m   1210\u001b[0m \u001b[38;5;28;01mexcept\u001b[39;00m \u001b[38;5;167;01mKeyboardInterrupt\u001b[39;00m:\n\u001b[1;32m   1211\u001b[0m     \u001b[38;5;66;03m# https://bugs.python.org/issue25942\u001b[39;00m\n\u001b[1;32m   1212\u001b[0m     \u001b[38;5;66;03m# See the detailed comment in .wait().\u001b[39;00m\n\u001b[1;32m   1213\u001b[0m     \u001b[38;5;28;01mif\u001b[39;00m timeout \u001b[38;5;129;01mis\u001b[39;00m \u001b[38;5;129;01mnot\u001b[39;00m \u001b[38;5;28;01mNone\u001b[39;00m:\n",
      "File \u001b[0;32m/usr/lib/python3.12/subprocess.py:2115\u001b[0m, in \u001b[0;36mPopen._communicate\u001b[0;34m(self, input, endtime, orig_timeout)\u001b[0m\n\u001b[1;32m   2108\u001b[0m     \u001b[38;5;28mself\u001b[39m\u001b[38;5;241m.\u001b[39m_check_timeout(endtime, orig_timeout,\n\u001b[1;32m   2109\u001b[0m                         stdout, stderr,\n\u001b[1;32m   2110\u001b[0m                         skip_check_and_raise\u001b[38;5;241m=\u001b[39m\u001b[38;5;28;01mTrue\u001b[39;00m)\n\u001b[1;32m   2111\u001b[0m     \u001b[38;5;28;01mraise\u001b[39;00m \u001b[38;5;167;01mRuntimeError\u001b[39;00m(  \u001b[38;5;66;03m# Impossible :)\u001b[39;00m\n\u001b[1;32m   2112\u001b[0m         \u001b[38;5;124m'\u001b[39m\u001b[38;5;124m_check_timeout(..., skip_check_and_raise=True) \u001b[39m\u001b[38;5;124m'\u001b[39m\n\u001b[1;32m   2113\u001b[0m         \u001b[38;5;124m'\u001b[39m\u001b[38;5;124mfailed to raise TimeoutExpired.\u001b[39m\u001b[38;5;124m'\u001b[39m)\n\u001b[0;32m-> 2115\u001b[0m ready \u001b[38;5;241m=\u001b[39m \u001b[43mselector\u001b[49m\u001b[38;5;241;43m.\u001b[39;49m\u001b[43mselect\u001b[49m\u001b[43m(\u001b[49m\u001b[43mtimeout\u001b[49m\u001b[43m)\u001b[49m\n\u001b[1;32m   2116\u001b[0m \u001b[38;5;28mself\u001b[39m\u001b[38;5;241m.\u001b[39m_check_timeout(endtime, orig_timeout, stdout, stderr)\n\u001b[1;32m   2118\u001b[0m \u001b[38;5;66;03m# XXX Rewrite these to use non-blocking I/O on the file\u001b[39;00m\n\u001b[1;32m   2119\u001b[0m \u001b[38;5;66;03m# objects; they are no longer using C stdio!\u001b[39;00m\n",
      "File \u001b[0;32m/usr/lib/python3.12/selectors.py:415\u001b[0m, in \u001b[0;36m_PollLikeSelector.select\u001b[0;34m(self, timeout)\u001b[0m\n\u001b[1;32m    413\u001b[0m ready \u001b[38;5;241m=\u001b[39m []\n\u001b[1;32m    414\u001b[0m \u001b[38;5;28;01mtry\u001b[39;00m:\n\u001b[0;32m--> 415\u001b[0m     fd_event_list \u001b[38;5;241m=\u001b[39m \u001b[38;5;28;43mself\u001b[39;49m\u001b[38;5;241;43m.\u001b[39;49m\u001b[43m_selector\u001b[49m\u001b[38;5;241;43m.\u001b[39;49m\u001b[43mpoll\u001b[49m\u001b[43m(\u001b[49m\u001b[43mtimeout\u001b[49m\u001b[43m)\u001b[49m\n\u001b[1;32m    416\u001b[0m \u001b[38;5;28;01mexcept\u001b[39;00m \u001b[38;5;167;01mInterruptedError\u001b[39;00m:\n\u001b[1;32m    417\u001b[0m     \u001b[38;5;28;01mreturn\u001b[39;00m ready\n",
      "File \u001b[0;32m/usr/lib/python3/dist-packages/cdo/cdo.py:835\u001b[0m, in \u001b[0;36mCdoTempfileStore.__catch__\u001b[0;34m(self, signum, frame, throw, **kwargs)\u001b[0m\n\u001b[1;32m    833\u001b[0m \u001b[38;5;28mself\u001b[39m\u001b[38;5;241m.\u001b[39m\u001b[38;5;21m__del__\u001b[39m()\n\u001b[1;32m    834\u001b[0m \u001b[38;5;28;01mif\u001b[39;00m \u001b[38;5;28mcallable\u001b[39m(throw):\n\u001b[0;32m--> 835\u001b[0m     \u001b[43mthrow\u001b[49m\u001b[43m(\u001b[49m\u001b[43msignum\u001b[49m\u001b[43m,\u001b[49m\u001b[43m \u001b[49m\u001b[43mframe\u001b[49m\u001b[43m,\u001b[49m\u001b[43m \u001b[49m\u001b[38;5;241;43m*\u001b[39;49m\u001b[38;5;241;43m*\u001b[39;49m\u001b[43mkwargs\u001b[49m\u001b[43m)\u001b[49m\n\u001b[1;32m    836\u001b[0m \u001b[38;5;28;01melse\u001b[39;00m:\n\u001b[1;32m    837\u001b[0m     \u001b[38;5;28mprint\u001b[39m(\u001b[38;5;124m\"\u001b[39m\u001b[38;5;124mcaught signal\u001b[39m\u001b[38;5;124m\"\u001b[39m, signum, frame)\n",
      "File \u001b[0;32m/usr/lib/python3/dist-packages/cdo/cdo.py:835\u001b[0m, in \u001b[0;36mCdoTempfileStore.__catch__\u001b[0;34m(self, signum, frame, throw, **kwargs)\u001b[0m\n\u001b[1;32m    833\u001b[0m \u001b[38;5;28mself\u001b[39m\u001b[38;5;241m.\u001b[39m\u001b[38;5;21m__del__\u001b[39m()\n\u001b[1;32m    834\u001b[0m \u001b[38;5;28;01mif\u001b[39;00m \u001b[38;5;28mcallable\u001b[39m(throw):\n\u001b[0;32m--> 835\u001b[0m     \u001b[43mthrow\u001b[49m\u001b[43m(\u001b[49m\u001b[43msignum\u001b[49m\u001b[43m,\u001b[49m\u001b[43m \u001b[49m\u001b[43mframe\u001b[49m\u001b[43m,\u001b[49m\u001b[43m \u001b[49m\u001b[38;5;241;43m*\u001b[39;49m\u001b[38;5;241;43m*\u001b[39;49m\u001b[43mkwargs\u001b[49m\u001b[43m)\u001b[49m\n\u001b[1;32m    836\u001b[0m \u001b[38;5;28;01melse\u001b[39;00m:\n\u001b[1;32m    837\u001b[0m     \u001b[38;5;28mprint\u001b[39m(\u001b[38;5;124m\"\u001b[39m\u001b[38;5;124mcaught signal\u001b[39m\u001b[38;5;124m\"\u001b[39m, signum, frame)\n",
      "\u001b[0;31mKeyboardInterrupt\u001b[0m: "
     ]
    }
   ],
   "source": [
    "from cdo import Cdo\n",
    "cdo = Cdo()\n",
    "\n",
    "# define output file\n",
    "outputFile = \"./data/spatial_avgs.nc\"\n",
    "\n",
    "spatial_avg_file = cdo.fldmean(input=dataFile, output=outputFile)\n",
    "spatial_avgs = xarr.open_dataset(outputFile)\n",
    "\n",
    "# calculate nationwide average, cumulative sum across the year\n",
    "temp_timeseries = spatial_avgs[\"t2m\"] # convert to celsius\n",
    "precipitation_timeseries = spatial_avgs[\"tp\"] * 1000 # convert to millimeters\n",
    "\n",
    "# squeeze\n",
    "temp_timeseries = temp_timeseries.squeeze()\n",
    "precipitation_timeseries = precipitation_timeseries.cumsum(dim=[\"lat\", \"lon\"]).squeeze()"
   ]
  },
  {
   "cell_type": "markdown",
   "id": "f5f71c20",
   "metadata": {},
   "source": [
    "Now, we can plot the data. Let's start with the heatmap across the United States."
   ]
  },
  {
   "cell_type": "code",
   "execution_count": null,
   "id": "9136c4ad",
   "metadata": {},
   "outputs": [],
   "source": [
    "import matplotlib.pyplot as plot\n",
    "import cartopy.crs as ccrs\n",
    "\n",
    "# declare figure\n",
    "theFigure = plot.subplots(figsize=(12, 8), subplot_kw={'projection': ccrs.PlateCarree()})\n",
    "\n",
    "# make map, adjust colorbar\n",
    "temp_plot = mean_temp.plot(transform=ccrs.PlateCarree(), cmap=\"RdYlBu_r\", add_colorbar=True)\n",
    "temp_plot.colorbar.set_label(\"Temperature (Celsius)\")\n",
    "\n",
    "# plot, show\n",
    "plot.title(\"Annual Average Surface Temperature across the Continental United States\")\n",
    "plot.savefig(\"./plots/Annual_Average_Surface_Temperature_CONUS_1988.png\")\n",
    "plot.show()"
   ]
  },
  {
   "cell_type": "markdown",
   "id": "6c80c848",
   "metadata": {},
   "source": [
    "Now, let's do the average precipitation."
   ]
  },
  {
   "cell_type": "code",
   "execution_count": null,
   "id": "bd771198",
   "metadata": {},
   "outputs": [],
   "source": [
    "# declare figure\n",
    "theFigure = plot.subplots(figsize=(12, 8), subplot_kw={'projection': ccrs.PlateCarree()})\n",
    "\n",
    "# make map, adjust colorbar\n",
    "precipitation_plot = mean_precipitation.plot(transform=ccrs.PlateCarree(), cmap=\"RdYlBu_r\", vmin=0, vmax=0.02, add_colorbar=True)\n",
    "precipitation_plot.colorbar.set_label(\"Precipitation (m/h)\")\n",
    "\n",
    "# plot, show\n",
    "plot.title(\"Annual Average Surface Precipitation across the Continental United States\")\n",
    "plot.savefig(\"./plots/Annual_Average_Surface_Precipitation_CONUS_1988.png\")\n",
    "plot.show()"
   ]
  },
  {
   "cell_type": "markdown",
   "id": "450e5c6d",
   "metadata": {},
   "source": [
    "(Because precipitation is not constant, the average across the surface is near zero.)\n",
    "\n",
    "Let's now plot the annual average across the entire continental United States with a graph that shows how temperature changed with time."
   ]
  },
  {
   "cell_type": "code",
   "execution_count": null,
   "id": "ecfe4b5b",
   "metadata": {},
   "outputs": [],
   "source": [
    "# create figure\n",
    "theFigure = plot.subplots(figsize=(12,8))\n",
    "\n",
    "# need to pass in the times, and then the data\n",
    "plot.plot(temp_timeseries.valid_time, temp_timeseries, color=\"red\")\n",
    "\n",
    "# labels\n",
    "plot.ylabel(\"Temperature (Celsius\")\n",
    "plot.xlabel(\"Date\")\n",
    "plot.title(\"Average Temperature, 1988 (Celsius)\")\n",
    "plot.savefig(\"./plots/Annual_Average_Surface_Temp_TimeSeries_1988.png\")\n",
    "plot.show()"
   ]
  },
  {
   "cell_type": "markdown",
   "id": "259e743a",
   "metadata": {},
   "source": [
    "Similarly, we can do the same for precipitation."
   ]
  },
  {
   "cell_type": "code",
   "execution_count": null,
   "id": "6c73f419",
   "metadata": {},
   "outputs": [],
   "source": [
    "theFigure = plot.subplots(figsize=(12,8))\n",
    "plot.plot(precipitation_timeseries.valid_time, precipitation_timeseries, color=\"red\")\n",
    "\n",
    "# labels\n",
    "plot.ylabel(\"Precipitation (m/h)\")\n",
    "plot.xlabel(\"Date\")\n",
    "plot.title(\"Cumulative Precipitation Across 1988\")\n",
    "plot.savefig(\"./plots/Annual_Cumulative_Surface_Precipitation_TimeSeries_1988.png\")\n",
    "plot.show()"
   ]
  }
 ],
 "metadata": {
  "kernelspec": {
   "display_name": "Python 3 (ipykernel)",
   "language": "python",
   "name": "python3"
  },
  "language_info": {
   "codemirror_mode": {
    "name": "ipython",
    "version": 3
   },
   "file_extension": ".py",
   "mimetype": "text/x-python",
   "name": "python",
   "nbconvert_exporter": "python",
   "pygments_lexer": "ipython3",
   "version": "3.12.3"
  }
 },
 "nbformat": 4,
 "nbformat_minor": 5
}
